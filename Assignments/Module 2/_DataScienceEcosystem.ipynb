{
 "cells": [
  {
   "cell_type": "markdown",
   "id": "520d9283-f9bd-4fba-b2a7-aff38a4e3e8d",
   "metadata": {},
   "source": [
    "<h1> Data Science Tools and Ecosystem"
   ]
  },
  {
   "cell_type": "markdown",
   "id": "32c02772-f396-4184-a428-896870feb317",
   "metadata": {},
   "source": [
    "In this notebook, Data Science Tools and Ecosystem are summarized."
   ]
  },
  {
   "cell_type": "markdown",
   "id": "c74b2199-81b4-43d5-b9d8-75afd4a79130",
   "metadata": {},
   "source": [
    "**Objectives:**\n",
    "- List some popular languages used by data scientist\n",
    "- List some common libraries used by data scientist\n",
    "- List some tools used in data science\n",
    "- Show an example of arithmetic expressions in python\n",
    "- e"
   ]
  },
  {
   "cell_type": "markdown",
   "id": "33197088-392b-4c05-a8ee-5e1dae562d9a",
   "metadata": {},
   "source": [
    "Some of the popular languages that Data Scientists use are:\n",
    "1. Python\n",
    "2. R\n",
    "3. Java\n",
    "4. Scala"
   ]
  },
  {
   "cell_type": "markdown",
   "id": "0247f75a-4e64-4a3e-ad3a-e85bd6cf1d50",
   "metadata": {},
   "source": [
    "Some of the commonly used libraries used by Data Scientists include:\n",
    "1. Pandas\n",
    "2. Seaborn\n",
    "3. Torch\n",
    "4. Scikit-Learn"
   ]
  },
  {
   "cell_type": "markdown",
   "id": "b852cb41-e006-4d3b-98b3-7e66a5ff3cea",
   "metadata": {},
   "source": [
    "| Data Science Tools |\n",
    "| -------------| \n",
    "| Jupyter Notebook |\n",
    "| Github | \n",
    "| Apache Spark |\n"
   ]
  },
  {
   "cell_type": "markdown",
   "id": "12287437-e3a5-4ebf-9313-478dede23b91",
   "metadata": {},
   "source": [
    "<h3> Below are a few examples of evaluating arithmetic expressions in Python </h3>"
   ]
  },
  {
   "cell_type": "code",
   "execution_count": 2,
   "id": "42883a3b-2235-4ed9-ad0e-bfdba7e476ad",
   "metadata": {},
   "outputs": [
    {
     "name": "stdout",
     "output_type": "stream",
     "text": [
      "17\n"
     ]
    }
   ],
   "source": [
    "#This a simple arithmetic expressionto mutiply then add integers\n",
    "x = (3*4)+5\n",
    "print(x)"
   ]
  },
  {
   "cell_type": "code",
   "execution_count": 3,
   "id": "bfcbf4fa-ae16-4306-be1c-7163bb52f6a1",
   "metadata": {},
   "outputs": [
    {
     "name": "stdout",
     "output_type": "stream",
     "text": [
      "3.3333333333333335\n"
     ]
    }
   ],
   "source": [
    "#This will convert 200 minutes to hours by diving by 60\n",
    "t_min = 200\n",
    "t_hour = t_min/60\n",
    "print(t_hour)"
   ]
  },
  {
   "cell_type": "markdown",
   "id": "2c82c4bc-4924-4ca4-8e3e-f1fe4a0a4cd9",
   "metadata": {},
   "source": [
    "## Author\n",
    "Tengku Aizat"
   ]
  },
  {
   "cell_type": "code",
   "execution_count": null,
   "id": "f58e6194-1f76-4870-b150-931750c907e7",
   "metadata": {},
   "outputs": [],
   "source": []
  }
 ],
 "metadata": {
  "kernelspec": {
   "display_name": "Python 3 (ipykernel)",
   "language": "python",
   "name": "python3"
  },
  "language_info": {
   "codemirror_mode": {
    "name": "ipython",
    "version": 3
   },
   "file_extension": ".py",
   "mimetype": "text/x-python",
   "name": "python",
   "nbconvert_exporter": "python",
   "pygments_lexer": "ipython3",
   "version": "3.8.0"
  }
 },
 "nbformat": 4,
 "nbformat_minor": 5
}
