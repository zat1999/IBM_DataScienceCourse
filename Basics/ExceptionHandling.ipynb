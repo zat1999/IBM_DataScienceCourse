{
 "cells": [
  {
   "cell_type": "markdown",
   "metadata": {},
   "source": [
    "<h1> Exception Handling </h1>\n",
    "Exercise n Solution available on IBM Jupyter Lab"
   ]
  },
  {
   "cell_type": "code",
   "execution_count": 2,
   "metadata": {},
   "outputs": [
    {
     "name": "stdout",
     "output_type": "stream",
     "text": [
      "Error, cannot divide by zero\n"
     ]
    }
   ],
   "source": [
    "def safe_divide(num, dem):\n",
    "    try:\n",
    "        result = num/dem\n",
    "        return result\n",
    "    except ZeroDivisionError:\n",
    "        print(\"Error, cannot divide by zero\")\n",
    "        return None\n",
    "    \n",
    "num = int(input(\"num:\"))\n",
    "dem = int(input(\"dem:\"))\n",
    "safe_divide(num,dem)"
   ]
  },
  {
   "cell_type": "code",
   "execution_count": 5,
   "metadata": {},
   "outputs": [
    {
     "data": {
      "text/plain": [
       "5.0"
      ]
     },
     "execution_count": 5,
     "metadata": {},
     "output_type": "execute_result"
    }
   ],
   "source": [
    "import math\n",
    "\n",
    "def squareroot(num):\n",
    "    try:\n",
    "        val = math.sqrt(num)\n",
    "        return val\n",
    "    except  ValueError:\n",
    "        print(\"Please make it positive or a real int only\")\n",
    "        return None\n",
    "    \n",
    "val = int(input(\"Num:\"))\n",
    "squareroot(val)"
   ]
  },
  {
   "cell_type": "code",
   "execution_count": 13,
   "metadata": {},
   "outputs": [
    {
     "name": "stdout",
     "output_type": "stream",
     "text": [
      "Cannot be zero\n"
     ]
    }
   ],
   "source": [
    "\n",
    "def calculate(val):\n",
    "    try:\n",
    "        val = int(val)\n",
    "        dem = val - 5\n",
    "        result = val/dem\n",
    "        return result\n",
    "    except ZeroDivisionError:\n",
    "        print(\"Cannot be zero\")\n",
    "        return None\n",
    "    except ValueError:\n",
    "        print(\"Has to be a number e.g. 5\")\n",
    "        return None\n",
    "\n",
    "val = input(\"val: \")\n",
    "calculate(val)"
   ]
  }
 ],
 "metadata": {
  "kernelspec": {
   "display_name": "Python 3",
   "language": "python",
   "name": "python3"
  },
  "language_info": {
   "codemirror_mode": {
    "name": "ipython",
    "version": 3
   },
   "file_extension": ".py",
   "mimetype": "text/x-python",
   "name": "python",
   "nbconvert_exporter": "python",
   "pygments_lexer": "ipython3",
   "version": "3.8.10"
  }
 },
 "nbformat": 4,
 "nbformat_minor": 2
}
