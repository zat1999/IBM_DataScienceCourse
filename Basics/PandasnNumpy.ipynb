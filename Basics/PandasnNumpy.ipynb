{
 "cells": [
  {
   "cell_type": "code",
   "execution_count": 29,
   "metadata": {},
   "outputs": [],
   "source": [
    "import pandas\n",
    "import numpy as np"
   ]
  },
  {
   "cell_type": "code",
   "execution_count": 2,
   "metadata": {},
   "outputs": [
    {
     "name": "stdout",
     "output_type": "stream",
     "text": [
      "40\n",
      "1    20\n",
      "2    30\n",
      "3    40\n",
      "dtype: int64\n"
     ]
    }
   ],
   "source": [
    "#Single 1D Array\n",
    "# Create a Series from a list\n",
    "data = [10, 20, 30, 40, 50]\n",
    "s = pd.Series(data)\n",
    "print(s.iloc[3])\n",
    "print(s[1:4])"
   ]
  },
  {
   "cell_type": "code",
   "execution_count": 7,
   "metadata": {},
   "outputs": [
    {
     "name": "stdout",
     "output_type": "stream",
     "text": [
      "   ID  Name\n",
      "0   1  Rose\n",
      "1   2  John\n",
      "2   3  Jane\n",
      "3   4  Mary\n",
      "<class 'pandas.core.frame.DataFrame'>\n",
      "<class 'pandas.core.frame.DataFrame'>\n",
      "   Name  ID       Department  Salary\n",
      "0  Rose   1  Architect Group  100000\n",
      "1  John   2   Software Group   80000\n",
      "2  Jane   3      Design Team   50000\n",
      "3  Mary   4   Infrastructure   60000\n"
     ]
    }
   ],
   "source": [
    "#Definition of Dictionary X\n",
    "x = {'Name': ['Rose','John', 'Jane', 'Mary'], 'ID': [1, 2, 3, 4], 'Department': ['Architect Group', 'Software Group', 'Design Team', 'Infrastructure'], \n",
    "      'Salary':[100000, 80000, 50000, 60000]}\n",
    "\n",
    "#casting the dictionary to a DataFrame\n",
    "df = pd.DataFrame(x)\n",
    "x = df[['ID','Name']]\n",
    "\n",
    "print(x)\n",
    "#display the result df\n",
    "print(type(df))\n",
    "print(type(x))\n",
    "print(df)"
   ]
  },
  {
   "cell_type": "code",
   "execution_count": 27,
   "metadata": {},
   "outputs": [
    {
     "name": "stdout",
     "output_type": "stream",
     "text": [
      "72\n",
      "David\n",
      "  Student Age Country            Course Marks\n",
      "0   David  27      UK            Python    85\n",
      "1  Samuel  24  Canada   Data Structures    72\n",
      "2   Terry  22   China  Machine Learning    89\n",
      "3    Evan  32     USA   Web Development    76\n"
     ]
    },
    {
     "data": {
      "text/plain": [
       "1    Samuel\n",
       "2     Terry\n",
       "Name: Student, dtype: object"
      ]
     },
     "execution_count": 27,
     "metadata": {},
     "output_type": "execute_result"
    }
   ],
   "source": [
    "a = {'Student':['David', 'Samuel', 'Terry', 'Evan'],\n",
    "     'Age':['27', '24', '22', '32'],\n",
    "     'Country':['UK', 'Canada', 'China', 'USA'],\n",
    "     'Course':['Python','Data Structures','Machine Learning','Web Development'],\n",
    "     'Marks':['85','72','89','76']}\n",
    "df1 = pd.DataFrame(a)\n",
    "df1\n",
    "    \n",
    "b = df1[[\"Marks\"]]\n",
    "c = df1[[\"Country\",\"Course\"]]\n",
    "\n",
    "print(df1.loc[1,\"Marks\"])\n",
    "print(df1.iloc[0,0])\n",
    "print(df1)\n",
    "df1.iloc[1:3,0]"
   ]
  },
  {
   "cell_type": "code",
   "execution_count": 40,
   "metadata": {},
   "outputs": [
    {
     "name": "stdout",
     "output_type": "stream",
     "text": [
      "<class 'numpy.ndarray'>\n",
      "1\n",
      "(5,)\n",
      "5\n",
      "[0 1 2 3 4]\n",
      "<class 'numpy.ndarray'>\n",
      "2\n",
      "(2, 2)\n",
      "4\n",
      "[[ 0  1]\n",
      " [ 2 34]]\n",
      "<class 'numpy.ndarray'>\n",
      "2\n",
      "(2, 2)\n",
      "4\n",
      "[[ 2  1]\n",
      " [33  6]]\n",
      "[[ 2  2]\n",
      " [35 40]]\n",
      "[[ 2  2]\n",
      " [35 40]]\n",
      "<class 'numpy.ndarray'>\n"
     ]
    }
   ],
   "source": [
    "a = np.array([0, 1, 2, 3, 4])\n",
    "b = np.array([[0,1],[2,34]])\n",
    "c = np.array([[2,1],[33,6]])\n",
    "def print_properties(np_array):\n",
    "    print(type(np_array))\n",
    "    print(np_array.ndim)\n",
    "    print(np_array.shape)\n",
    "    print(np_array.size)\n",
    "    print(np_array)\n",
    "\n",
    "print_properties(a)\n",
    "print_properties(b)\n",
    "print_properties(c) \n",
    "\n",
    "z = b + c\n",
    "print(z)\n",
    "z.T #no change since 2x2\n",
    "print(z)\n",
    "print(type(z))\n"
   ]
  },
  {
   "cell_type": "code",
   "execution_count": 43,
   "metadata": {},
   "outputs": [
    {
     "data": {
      "text/plain": [
       "array([1, 2])"
      ]
     },
     "execution_count": 43,
     "metadata": {},
     "output_type": "execute_result"
    }
   ],
   "source": [
    "#splicing\n",
    "X=np.array([[1,0,1],[2,2,2]]) \n",
    "\n",
    "out=X[0:2,2]\n",
    "out"
   ]
  },
  {
   "cell_type": "code",
   "execution_count": 44,
   "metadata": {},
   "outputs": [
    {
     "data": {
      "text/plain": [
       "array([[2, 1],\n",
       "       [1, 2]])"
      ]
     },
     "execution_count": 44,
     "metadata": {},
     "output_type": "execute_result"
    }
   ],
   "source": [
    "X=np.array([[1,0],[0,1]]) \n",
    "\n",
    "Y=np.array([[2,1],[1,2]]) \n",
    "\n",
    "Z=np.dot(X,Y) \n",
    "Z"
   ]
  }
 ],
 "metadata": {
  "kernelspec": {
   "display_name": "Python 3",
   "language": "python",
   "name": "python3"
  },
  "language_info": {
   "codemirror_mode": {
    "name": "ipython",
    "version": 3
   },
   "file_extension": ".py",
   "mimetype": "text/x-python",
   "name": "python",
   "nbconvert_exporter": "python",
   "pygments_lexer": "ipython3",
   "version": "3.8.10"
  }
 },
 "nbformat": 4,
 "nbformat_minor": 2
}
