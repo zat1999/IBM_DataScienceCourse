{
 "cells": [
  {
   "cell_type": "markdown",
   "metadata": {},
   "source": [
    "Decision Trees\n",
    "\n",
    "1. Select an Attribute\n",
    "2. Calculate the significance of attribute in splitting of data.\n",
    "3. Split the data base on the value of best attribute.\n",
    "4. Repeat\n",
    "\n",
    "recursive partitioning divides the data into subsets/partitions based on the values of the input feature. This process is repeated recursively for each subset until a stopping criterion is met. \n",
    "\n",
    "Entropy is measure of randomness. Less entropy, less uniform distribution and more pure the node.\n",
    "\n",
    "Information gain is the information that can increase the level of certainty after splitting.\n",
    "\n",
    "Information gain = entropy before splitting - weighted entropy after spliting. "
   ]
  },
  {
   "cell_type": "code",
   "execution_count": 2,
   "metadata": {},
   "outputs": [
    {
     "name": "stdout",
     "output_type": "stream",
     "text": [
      "g\n"
     ]
    }
   ],
   "source": [
    "print('g')"
   ]
  },
  {
   "cell_type": "code",
   "execution_count": null,
   "metadata": {},
   "outputs": [],
   "source": []
  }
 ],
 "metadata": {
  "kernelspec": {
   "display_name": "py310",
   "language": "python",
   "name": "python3"
  },
  "language_info": {
   "codemirror_mode": {
    "name": "ipython",
    "version": 3
   },
   "file_extension": ".py",
   "mimetype": "text/x-python",
   "name": "python",
   "nbconvert_exporter": "python",
   "pygments_lexer": "ipython3",
   "version": "3.10.15"
  }
 },
 "nbformat": 4,
 "nbformat_minor": 2
}
